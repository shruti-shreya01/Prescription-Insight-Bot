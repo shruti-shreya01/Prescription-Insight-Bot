{
 "cells": [
  {
   "cell_type": "code",
   "execution_count": null,
   "id": "ed35775e",
   "metadata": {},
   "outputs": [
    {
     "name": "stdout",
     "output_type": "stream",
     "text": [
      "```json\n",
      "{\n",
      "  \"Patient\": \"Michael Brown\",\n",
      "  \"Diagnosis\": \"Chronic Obstructive Pulmonary Disease (COPD) with acute exacerbation and secondary pneumonia\",\n",
      "  \"Treatment\": \"IV Ceftriaxone 1g x 5 days, nebulization with Levalbuterol + Ipratropium, oxygen 2L/min via nasal cannula, physiotherapy\",\n",
      "  \"Followup\": \"Chest x-ray after 10 days, counseling\"\n",
      "}\n",
      "```\n"
     ]
    }
   ],
   "source": [
    "import google.generativeai as genai\n",
    "\n",
    "# Authenticate\n",
    "import os\n",
    "from dotenv import load_dotenv\n",
    "import google.generativeai as genai\n",
    "\n",
    "# Load variables from .env file\n",
    "load_dotenv()\n",
    "\n",
    "# Get API key from environment\n",
    "api_key = os.getenv(\"GEMINI_API_KEY\")\n",
    "\n",
    "if not api_key:\n",
    "    raise ValueError(\"⚠️ GEMINI_API_KEY not found in environment variables!\")\n",
    "genai.configure(api_key=api_key)\n",
    "\n",
    "gemini_model = genai.GenerativeModel(\"gemini-2.0-flash\")\n",
    "\n",
    "# Prepare your structured extraction prompt\n",
    "note_text = \"\"\"\n",
    "potient : michael bro wn age : 65 history diagnosis cheonic treatment\n",
    " a cute iv ceftxiaxone smoker 1g exacerbation 8.d x 5 days\n",
    " pack yos of copd , nebulization with mild copd. secondary levo saltbutanol + overy\n",
    " pneumonia [pratopium 6 oxygen 2l/min connula.\n",
    " via physiotherapy\n",
    " chest follow up : chest x-ray after 10 days, courselling\n",
    "\"\"\"\n",
    "\n",
    "prompt = f\"\"\"Extract the following fields from the clinical note and return valid JSON with keys: Patient, Diagnosis, Treatment, Followup. Also, if there's some common typing mistake, correct it in the output.\n",
    "\n",
    "Note:\n",
    "{note_text}\n",
    "\n",
    "JSON:\n",
    "\"\"\"\n",
    "\n",
    "# Actually call the generation (no response_schema yet in public API)\n",
    "response = gemini_model.generate_content(prompt)\n",
    "\n",
    "# Gemini returns text; usually valid JSON or nearly valid JSON\n",
    "print(response.text)\n"
   ]
  },
  {
   "cell_type": "code",
   "execution_count": null,
   "id": "d59def56",
   "metadata": {},
   "outputs": [],
   "source": []
  }
 ],
 "metadata": {
  "kernelspec": {
   "display_name": "venv",
   "language": "python",
   "name": "python3"
  },
  "language_info": {
   "codemirror_mode": {
    "name": "ipython",
    "version": 3
   },
   "file_extension": ".py",
   "mimetype": "text/x-python",
   "name": "python",
   "nbconvert_exporter": "python",
   "pygments_lexer": "ipython3",
   "version": "3.13.1"
  }
 },
 "nbformat": 4,
 "nbformat_minor": 5
}
